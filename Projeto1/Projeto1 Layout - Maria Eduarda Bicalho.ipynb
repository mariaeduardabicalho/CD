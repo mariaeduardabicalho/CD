{
 "cells": [
  {
   "cell_type": "markdown",
   "metadata": {},
   "source": [
    "___\n",
    "# Ciência dos Dados - PROJETO 1"
   ]
  },
  {
   "cell_type": "markdown",
   "metadata": {},
   "source": [
    "## Maria Eduarda Bicalho\n",
    "\n",
    "___"
   ]
  },
  {
   "cell_type": "markdown",
   "metadata": {},
   "source": [
    "## Acesso a diferentes informações\n"
   ]
  },
  {
   "cell_type": "markdown",
   "metadata": {},
   "source": [
    "___\n",
    "## Introdução\n",
    "\n",
    "Descreva aqui o que pretende analisar!\n",
    "\n",
    "Capriche no português!! \n",
    "Se quiser pode utilizar pesquisas semelhantes publicadas em sites confiáveis!!\n",
    "\n",
    "\n",
    "acesso a informacao \n",
    "compracao acesso rede fechada influencias formacao de informacoes\n",
    "sinal, qualidade influencia\n",
    "\n",
    "-como cresceu o acesso a diferentes informacoes por renda e condicao de moradia?\n",
    "-se o crescimento do acesso a internet afetou tv a cabo\n",
    "-relacao ceular 3g 4g\n",
    "\n",
    "\n"
   ]
  },
  {
   "cell_type": "markdown",
   "metadata": {},
   "source": [
    "___\n",
    "## Análise e Resultados"
   ]
  },
  {
   "cell_type": "code",
   "execution_count": 263,
   "metadata": {
    "collapsed": true
   },
   "outputs": [],
   "source": [
    "%matplotlib inline\n",
    "import pandas as pd\n",
    "import matplotlib.pyplot as plt\n",
    "import numpy as np\n",
    "import os"
   ]
  },
  {
   "cell_type": "code",
   "execution_count": 264,
   "metadata": {},
   "outputs": [
    {
     "name": "stdout",
     "output_type": "stream",
     "text": [
      "Esperamos trabalhar no diretório\n",
      "C:\\Users\\duda\\Documents\\ciencia dos dados\\projeto1\n"
     ]
    }
   ],
   "source": [
    "print('Esperamos trabalhar no diretório')\n",
    "print(os.getcwd())"
   ]
  },
  {
   "cell_type": "code",
   "execution_count": 265,
   "metadata": {
    "collapsed": true
   },
   "outputs": [],
   "source": [
    "#Se usar o arquivo descompactado\n",
    "dados15=pd.read_csv('DOM2015.csv',sep=',')\n",
    "dados14=pd.read_csv('DOM2014.csv',sep=',')\n",
    "dados13=pd.read_csv('DOM2013.csv',sep=',')"
   ]
  },
  {
   "cell_type": "code",
   "execution_count": 266,
   "metadata": {
    "collapsed": true
   },
   "outputs": [],
   "source": [
    "#2015"
   ]
  },
  {
   "cell_type": "code",
   "execution_count": 267,
   "metadata": {
    "collapsed": true
   },
   "outputs": [],
   "source": [
    "dados15.UF= dados15.UF.astype('category')\n",
    "\n",
    "dados15.V02424=dados15.V02424.astype(\"category\") #acesso internet e feito  atraves de 3g/ 4g\n",
    "\n",
    "dados15.V0207=dados15.V0207.astype(\"category\") #condicao de moradia\n",
    "\n",
    "dados15.V0220=dados15.V0220.astype('category') #tem telefone celular\n",
    "\n",
    "dados15.V02272=dados15.V02272.astype('category') #tem tv por assinatura\n",
    "\n",
    "dados15.V02322=dados15.V02322.astype('category') # tem acessoa a internet no domi\n",
    "\n",
    "dados15.V4621=dados15.V4621.astype('float') # renda per capita\n"
   ]
  },
  {
   "cell_type": "code",
   "execution_count": 268,
   "metadata": {
    "collapsed": true
   },
   "outputs": [],
   "source": [
    "dados15.UF.cat.categories = (['Rondônia', 'Acre', 'Amazonas', 'Roraima', 'Pará', 'Amapá', 'Tocantins', 'Maranhão', 'Piauí', 'Ceará', 'Rio Grande do Norte', 'Paraíba', 'Pernambuco', 'Alagoas', 'Sergipe', 'Bahia', 'Minas Gerais', 'Espírito Santo', 'Rio de Janeiro', 'São Paulo', 'Paraná', 'Santa Catarina', 'Rio Grande do Sul', 'Mato Grosso do Sul', 'Mato Grosso', 'Goiás', 'Distrito Federal'])\n",
    "\n",
    "dados15.V02424.cat.categories = (['sim', 'nao'])\n",
    "\n",
    "dados15.V0207.cat.categories = (['Proprio- ja pago', 'Proprio- ainda pagando','alugado','cedido por empregador','cedido de outra forma','outra condicao'])\n",
    "\n",
    "dados15.V0220.cat.categories = (['sim', 'nao'])\n",
    "\n",
    "dados15.V02272.cat.categories = (['sim', 'nao'])\n",
    "\n",
    "dados15.V02322.cat.categories = (['sim', 'nao'])"
   ]
  },
  {
   "cell_type": "code",
   "execution_count": 269,
   "metadata": {},
   "outputs": [
    {
     "data": {
      "text/html": [
       "<div>\n",
       "<style>\n",
       "    .dataframe thead tr:only-child th {\n",
       "        text-align: right;\n",
       "    }\n",
       "\n",
       "    .dataframe thead th {\n",
       "        text-align: left;\n",
       "    }\n",
       "\n",
       "    .dataframe tbody tr th {\n",
       "        vertical-align: top;\n",
       "    }\n",
       "</style>\n",
       "<table border=\"1\" class=\"dataframe\">\n",
       "  <thead>\n",
       "    <tr style=\"text-align: right;\">\n",
       "      <th></th>\n",
       "      <th>Estados</th>\n",
       "      <th>Condicao_de_moradia</th>\n",
       "      <th>Renda</th>\n",
       "      <th>Tv_por_assinatura</th>\n",
       "      <th>Internet_no_domicilio</th>\n",
       "      <th>Celular</th>\n",
       "      <th>internet_por_3g4g</th>\n",
       "    </tr>\n",
       "  </thead>\n",
       "  <tbody>\n",
       "    <tr>\n",
       "      <th>151184</th>\n",
       "      <td>Distrito Federal</td>\n",
       "      <td>alugado</td>\n",
       "      <td>675.0</td>\n",
       "      <td>nao</td>\n",
       "      <td>nao</td>\n",
       "      <td>sim</td>\n",
       "      <td>NaN</td>\n",
       "    </tr>\n",
       "    <tr>\n",
       "      <th>151185</th>\n",
       "      <td>Distrito Federal</td>\n",
       "      <td>alugado</td>\n",
       "      <td>100.0</td>\n",
       "      <td>nao</td>\n",
       "      <td>nao</td>\n",
       "      <td>sim</td>\n",
       "      <td>NaN</td>\n",
       "    </tr>\n",
       "    <tr>\n",
       "      <th>151186</th>\n",
       "      <td>Distrito Federal</td>\n",
       "      <td>Proprio- ja pago</td>\n",
       "      <td>796.0</td>\n",
       "      <td>nao</td>\n",
       "      <td>sim</td>\n",
       "      <td>sim</td>\n",
       "      <td>sim</td>\n",
       "    </tr>\n",
       "    <tr>\n",
       "      <th>151187</th>\n",
       "      <td>Distrito Federal</td>\n",
       "      <td>Proprio- ja pago</td>\n",
       "      <td>750.0</td>\n",
       "      <td>nao</td>\n",
       "      <td>nao</td>\n",
       "      <td>sim</td>\n",
       "      <td>NaN</td>\n",
       "    </tr>\n",
       "    <tr>\n",
       "      <th>151188</th>\n",
       "      <td>Distrito Federal</td>\n",
       "      <td>Proprio- ja pago</td>\n",
       "      <td>259.0</td>\n",
       "      <td>nao</td>\n",
       "      <td>sim</td>\n",
       "      <td>sim</td>\n",
       "      <td>sim</td>\n",
       "    </tr>\n",
       "  </tbody>\n",
       "</table>\n",
       "</div>"
      ],
      "text/plain": [
       "                 Estados Condicao_de_moradia  Renda Tv_por_assinatura  \\\n",
       "151184  Distrito Federal             alugado  675.0               nao   \n",
       "151185  Distrito Federal             alugado  100.0               nao   \n",
       "151186  Distrito Federal    Proprio- ja pago  796.0               nao   \n",
       "151187  Distrito Federal    Proprio- ja pago  750.0               nao   \n",
       "151188  Distrito Federal    Proprio- ja pago  259.0               nao   \n",
       "\n",
       "       Internet_no_domicilio Celular internet_por_3g4g  \n",
       "151184                   nao     sim               NaN  \n",
       "151185                   nao     sim               NaN  \n",
       "151186                   sim     sim               sim  \n",
       "151187                   nao     sim               NaN  \n",
       "151188                   sim     sim               sim  "
      ]
     },
     "execution_count": 269,
     "metadata": {},
     "output_type": "execute_result"
    }
   ],
   "source": [
    "d15=dados15.loc[:,[\"UF\", 'V0207','V4621','V02272','V02322','V0220','V02424']]\n",
    "d15.columns=['Estados','Condicao_de_moradia','Renda','Tv_por_assinatura','Internet_no_domicilio','Celular','internet_por_3g4g']\n",
    "d15=d15[d15.Renda<500000]\n",
    "\n",
    "d15.tail()\n"
   ]
  },
  {
   "cell_type": "code",
   "execution_count": 270,
   "metadata": {
    "collapsed": true
   },
   "outputs": [],
   "source": [
    "#2014"
   ]
  },
  {
   "cell_type": "code",
   "execution_count": 271,
   "metadata": {
    "collapsed": true
   },
   "outputs": [],
   "source": [
    "dados14.UF= dados14.UF.astype('category')\n",
    "\n",
    "dados14.V02424=dados14.V02424.astype(\"category\") #acesso internet e feito  atraves de 3g/ 4g\n",
    "\n",
    "dados14.V0207=dados14.V0207.astype(\"category\") #condicao de moradia\n",
    "\n",
    "dados14.V0220=dados14.V0220.astype('category') #tem telefone celular\n",
    "\n",
    "dados14.V02272=dados14.V02272.astype('category') #tem tv por assinatura\n",
    "\n",
    "dados14.V02322=dados14.V02322.astype('category') # tem acessoa a internet no domi\n",
    "\n",
    "dados14.V4621=dados14.V4621.astype('float') # renda per capita"
   ]
  },
  {
   "cell_type": "code",
   "execution_count": 272,
   "metadata": {
    "collapsed": true
   },
   "outputs": [],
   "source": [
    "dados14.UF.cat.categories = (['Rondônia', 'Acre', 'Amazonas', 'Roraima', 'Pará', 'Amapá', 'Tocantins', 'Maranhão', 'Piauí', 'Ceará', 'Rio Grande do Norte', 'Paraíba', 'Pernambuco', 'Alagoas', 'Sergipe', 'Bahia', 'Minas Gerais', 'Espírito Santo', 'Rio de Janeiro', 'São Paulo', 'Paraná', 'Santa Catarina', 'Rio Grande do Sul', 'Mato Grosso do Sul', 'Mato Grosso', 'Goiás', 'Distrito Federal'])\n",
    "\n",
    "dados14.V02424.cat.categories = (['sim', 'nao'])\n",
    "\n",
    "dados14.V0207.cat.categories = (['Proprio- ja pago', 'Proprio- ainda pagando','alugado','cedido por empregador','cedido de outra forma','outra condicao'])\n",
    "\n",
    "dados14.V0220.cat.categories = (['sim', 'nao'])\n",
    "\n",
    "dados14.V02272.cat.categories = (['sim', 'nao'])\n",
    "\n",
    "dados14.V02322.cat.categories = (['sim', 'nao'])"
   ]
  },
  {
   "cell_type": "code",
   "execution_count": 273,
   "metadata": {},
   "outputs": [
    {
     "data": {
      "text/html": [
       "<div>\n",
       "<style>\n",
       "    .dataframe thead tr:only-child th {\n",
       "        text-align: right;\n",
       "    }\n",
       "\n",
       "    .dataframe thead th {\n",
       "        text-align: left;\n",
       "    }\n",
       "\n",
       "    .dataframe tbody tr th {\n",
       "        vertical-align: top;\n",
       "    }\n",
       "</style>\n",
       "<table border=\"1\" class=\"dataframe\">\n",
       "  <thead>\n",
       "    <tr style=\"text-align: right;\">\n",
       "      <th></th>\n",
       "      <th>Estados</th>\n",
       "      <th>Condicao_de_moradia</th>\n",
       "      <th>Renda</th>\n",
       "      <th>Tv_por_assinatura</th>\n",
       "      <th>Internet_no_domicilio</th>\n",
       "      <th>Celular</th>\n",
       "      <th>internet_por_3g4g</th>\n",
       "    </tr>\n",
       "  </thead>\n",
       "  <tbody>\n",
       "    <tr>\n",
       "      <th>0</th>\n",
       "      <td>Rondônia</td>\n",
       "      <td>alugado</td>\n",
       "      <td>500.0</td>\n",
       "      <td>nao</td>\n",
       "      <td>nao</td>\n",
       "      <td>sim</td>\n",
       "      <td>NaN</td>\n",
       "    </tr>\n",
       "    <tr>\n",
       "      <th>1</th>\n",
       "      <td>Rondônia</td>\n",
       "      <td>Proprio- ja pago</td>\n",
       "      <td>1150.0</td>\n",
       "      <td>nao</td>\n",
       "      <td>sim</td>\n",
       "      <td>sim</td>\n",
       "      <td>nao</td>\n",
       "    </tr>\n",
       "    <tr>\n",
       "      <th>2</th>\n",
       "      <td>Rondônia</td>\n",
       "      <td>Proprio- ja pago</td>\n",
       "      <td>724.0</td>\n",
       "      <td>sim</td>\n",
       "      <td>nao</td>\n",
       "      <td>nao</td>\n",
       "      <td>NaN</td>\n",
       "    </tr>\n",
       "    <tr>\n",
       "      <th>3</th>\n",
       "      <td>Rondônia</td>\n",
       "      <td>Proprio- ja pago</td>\n",
       "      <td>1700.0</td>\n",
       "      <td>sim</td>\n",
       "      <td>sim</td>\n",
       "      <td>sim</td>\n",
       "      <td>nao</td>\n",
       "    </tr>\n",
       "    <tr>\n",
       "      <th>4</th>\n",
       "      <td>Rondônia</td>\n",
       "      <td>Proprio- ja pago</td>\n",
       "      <td>855.0</td>\n",
       "      <td>nao</td>\n",
       "      <td>sim</td>\n",
       "      <td>sim</td>\n",
       "      <td>nao</td>\n",
       "    </tr>\n",
       "  </tbody>\n",
       "</table>\n",
       "</div>"
      ],
      "text/plain": [
       "    Estados Condicao_de_moradia   Renda Tv_por_assinatura  \\\n",
       "0  Rondônia             alugado   500.0               nao   \n",
       "1  Rondônia    Proprio- ja pago  1150.0               nao   \n",
       "2  Rondônia    Proprio- ja pago   724.0               sim   \n",
       "3  Rondônia    Proprio- ja pago  1700.0               sim   \n",
       "4  Rondônia    Proprio- ja pago   855.0               nao   \n",
       "\n",
       "  Internet_no_domicilio Celular internet_por_3g4g  \n",
       "0                   nao     sim               NaN  \n",
       "1                   sim     sim               nao  \n",
       "2                   nao     nao               NaN  \n",
       "3                   sim     sim               nao  \n",
       "4                   sim     sim               nao  "
      ]
     },
     "execution_count": 273,
     "metadata": {},
     "output_type": "execute_result"
    }
   ],
   "source": [
    "d14=dados14.loc[:,[\"UF\", 'V0207','V4621','V02272','V02322','V0220','V02424']]\n",
    "#.dropna(subset=(''.''))\n",
    "\n",
    "d14.columns=['Estados','Condicao_de_moradia','Renda','Tv_por_assinatura','Internet_no_domicilio','Celular','internet_por_3g4g']\n",
    "d14=d14[d14.Renda<500000]\n",
    "d14.head()\n"
   ]
  },
  {
   "cell_type": "code",
   "execution_count": 274,
   "metadata": {
    "collapsed": true
   },
   "outputs": [],
   "source": [
    "#2013"
   ]
  },
  {
   "cell_type": "code",
   "execution_count": 275,
   "metadata": {
    "collapsed": true
   },
   "outputs": [],
   "source": [
    "dados13.UF= dados13.UF.astype('category')\n",
    "\n",
    "dados13.V02424=dados13.V02424.astype(\"category\") #acesso internet e feito  atraves de 3g/ 4g\n",
    "\n",
    "dados13.V0207=dados13.V0207.astype(\"category\") #condicao de moradia\n",
    "\n",
    "dados13.V0220=dados13.V0220.astype('category') #tem telefone celular\n",
    "\n",
    "dados13.V02272=dados13.V02272.astype('category') #tem tv por assinatura\n",
    "\n",
    "dados13.V02322=dados13.V02322.astype('category') # tem acessoa a internet no domi\n",
    "\n",
    "dados13.V4621=dados13.V4621.astype('float') # renda per capita"
   ]
  },
  {
   "cell_type": "code",
   "execution_count": 276,
   "metadata": {
    "collapsed": true
   },
   "outputs": [],
   "source": [
    "dados13.UF.cat.categories = (['Rondônia', 'Acre', 'Amazonas', 'Roraima', 'Pará', 'Amapá', 'Tocantins', 'Maranhão', 'Piauí', 'Ceará', 'Rio Grande do Norte', 'Paraíba', 'Pernambuco', 'Alagoas', 'Sergipe', 'Bahia', 'Minas Gerais', 'Espírito Santo', 'Rio de Janeiro', 'São Paulo', 'Paraná', 'Santa Catarina', 'Rio Grande do Sul', 'Mato Grosso do Sul', 'Mato Grosso', 'Goiás', 'Distrito Federal'])\n",
    "\n",
    "dados13.V02424.cat.categories = (['sim', 'nao'])\n",
    "\n",
    "dados13.V0207.cat.categories = (['Proprio- ja pago', 'Proprio- ainda pagando','alugado','cedido por empregador','cedido de outra forma','outra condicao'])\n",
    "\n",
    "dados13.V0220.cat.categories = (['sim', 'nao'])\n",
    "\n",
    "dados13.V02272.cat.categories = (['sim', 'nao'])\n",
    "\n",
    "dados13.V02322.cat.categories = (['sim', 'nao'])"
   ]
  },
  {
   "cell_type": "code",
   "execution_count": 277,
   "metadata": {},
   "outputs": [
    {
     "data": {
      "text/html": [
       "<div>\n",
       "<style>\n",
       "    .dataframe thead tr:only-child th {\n",
       "        text-align: right;\n",
       "    }\n",
       "\n",
       "    .dataframe thead th {\n",
       "        text-align: left;\n",
       "    }\n",
       "\n",
       "    .dataframe tbody tr th {\n",
       "        vertical-align: top;\n",
       "    }\n",
       "</style>\n",
       "<table border=\"1\" class=\"dataframe\">\n",
       "  <thead>\n",
       "    <tr style=\"text-align: right;\">\n",
       "      <th></th>\n",
       "      <th>Estados</th>\n",
       "      <th>Condicao_de_moradia</th>\n",
       "      <th>Renda</th>\n",
       "      <th>Tv_por_assinatura</th>\n",
       "      <th>Internet_no_domicilio</th>\n",
       "      <th>Celular</th>\n",
       "      <th>internet_por_3g4g</th>\n",
       "    </tr>\n",
       "  </thead>\n",
       "  <tbody>\n",
       "    <tr>\n",
       "      <th>148690</th>\n",
       "      <td>Distrito Federal</td>\n",
       "      <td>alugado</td>\n",
       "      <td>516.0</td>\n",
       "      <td>nao</td>\n",
       "      <td>nao</td>\n",
       "      <td>sim</td>\n",
       "      <td>NaN</td>\n",
       "    </tr>\n",
       "    <tr>\n",
       "      <th>148692</th>\n",
       "      <td>Distrito Federal</td>\n",
       "      <td>alugado</td>\n",
       "      <td>800.0</td>\n",
       "      <td>nao</td>\n",
       "      <td>nao</td>\n",
       "      <td>sim</td>\n",
       "      <td>NaN</td>\n",
       "    </tr>\n",
       "    <tr>\n",
       "      <th>148693</th>\n",
       "      <td>Distrito Federal</td>\n",
       "      <td>Proprio- ja pago</td>\n",
       "      <td>100.0</td>\n",
       "      <td>nao</td>\n",
       "      <td>sim</td>\n",
       "      <td>sim</td>\n",
       "      <td>sim</td>\n",
       "    </tr>\n",
       "    <tr>\n",
       "      <th>148694</th>\n",
       "      <td>Distrito Federal</td>\n",
       "      <td>Proprio- ja pago</td>\n",
       "      <td>387.0</td>\n",
       "      <td>sim</td>\n",
       "      <td>sim</td>\n",
       "      <td>sim</td>\n",
       "      <td>nao</td>\n",
       "    </tr>\n",
       "    <tr>\n",
       "      <th>148695</th>\n",
       "      <td>Distrito Federal</td>\n",
       "      <td>alugado</td>\n",
       "      <td>400.0</td>\n",
       "      <td>nao</td>\n",
       "      <td>nao</td>\n",
       "      <td>sim</td>\n",
       "      <td>NaN</td>\n",
       "    </tr>\n",
       "  </tbody>\n",
       "</table>\n",
       "</div>"
      ],
      "text/plain": [
       "                 Estados Condicao_de_moradia  Renda Tv_por_assinatura  \\\n",
       "148690  Distrito Federal             alugado  516.0               nao   \n",
       "148692  Distrito Federal             alugado  800.0               nao   \n",
       "148693  Distrito Federal    Proprio- ja pago  100.0               nao   \n",
       "148694  Distrito Federal    Proprio- ja pago  387.0               sim   \n",
       "148695  Distrito Federal             alugado  400.0               nao   \n",
       "\n",
       "       Internet_no_domicilio Celular internet_por_3g4g  \n",
       "148690                   nao     sim               NaN  \n",
       "148692                   nao     sim               NaN  \n",
       "148693                   sim     sim               sim  \n",
       "148694                   sim     sim               nao  \n",
       "148695                   nao     sim               NaN  "
      ]
     },
     "execution_count": 277,
     "metadata": {},
     "output_type": "execute_result"
    }
   ],
   "source": [
    "d13=dados13.loc[:,[\"UF\", 'V0207','V4621','V02272','V02322','V0220','V02424']]\n",
    "d13.columns=['Estados','Condicao_de_moradia','Renda','Tv_por_assinatura','Internet_no_domicilio','Celular','internet_por_3g4g']\n",
    "d13=d13[d13.Renda<500000]\n",
    "d13.tail()\n"
   ]
  },
  {
   "cell_type": "code",
   "execution_count": 278,
   "metadata": {
    "collapsed": true
   },
   "outputs": [],
   "source": [
    "#GRÁFICOS  por coondicao"
   ]
  },
  {
   "cell_type": "code",
   "execution_count": 279,
   "metadata": {},
   "outputs": [
    {
     "data": {
      "text/html": [
       "<div>\n",
       "<style>\n",
       "    .dataframe thead tr:only-child th {\n",
       "        text-align: right;\n",
       "    }\n",
       "\n",
       "    .dataframe thead th {\n",
       "        text-align: left;\n",
       "    }\n",
       "\n",
       "    .dataframe tbody tr th {\n",
       "        vertical-align: top;\n",
       "    }\n",
       "</style>\n",
       "<table border=\"1\" class=\"dataframe\">\n",
       "  <thead>\n",
       "    <tr style=\"text-align: right;\">\n",
       "      <th>Tv</th>\n",
       "      <th>sim</th>\n",
       "      <th>nao</th>\n",
       "    </tr>\n",
       "    <tr>\n",
       "      <th>condicao de moradia</th>\n",
       "      <th></th>\n",
       "      <th></th>\n",
       "    </tr>\n",
       "  </thead>\n",
       "  <tbody>\n",
       "    <tr>\n",
       "      <th>Proprio- ja pago</th>\n",
       "      <td>24015</td>\n",
       "      <td>55157</td>\n",
       "    </tr>\n",
       "    <tr>\n",
       "      <th>Proprio- ainda pagando</th>\n",
       "      <td>2515</td>\n",
       "      <td>2591</td>\n",
       "    </tr>\n",
       "    <tr>\n",
       "      <th>alugado</th>\n",
       "      <td>6208</td>\n",
       "      <td>13564</td>\n",
       "    </tr>\n",
       "    <tr>\n",
       "      <th>cedido por empregador</th>\n",
       "      <td>349</td>\n",
       "      <td>1693</td>\n",
       "    </tr>\n",
       "    <tr>\n",
       "      <th>cedido de outra forma</th>\n",
       "      <td>1125</td>\n",
       "      <td>4312</td>\n",
       "    </tr>\n",
       "    <tr>\n",
       "      <th>outra condicao</th>\n",
       "      <td>68</td>\n",
       "      <td>212</td>\n",
       "    </tr>\n",
       "  </tbody>\n",
       "</table>\n",
       "</div>"
      ],
      "text/plain": [
       "Tv                        sim    nao\n",
       "condicao de moradia                 \n",
       "Proprio- ja pago        24015  55157\n",
       "Proprio- ainda pagando   2515   2591\n",
       "alugado                  6208  13564\n",
       "cedido por empregador     349   1693\n",
       "cedido de outra forma    1125   4312\n",
       "outra condicao             68    212"
      ]
     },
     "execution_count": 279,
     "metadata": {},
     "output_type": "execute_result"
    }
   ],
   "source": [
    "#d15[d15.Estados=='São Paulo'] *** O MESMO RESULTADO\n",
    "crt=pd.crosstab(d15.Condicao_de_moradia,d15.Tv_por_assinatura,margins=False,rownames=['condicao de moradia'], colnames=['Tv'])\n",
    "crt.head(10)"
   ]
  },
  {
   "cell_type": "code",
   "execution_count": 280,
   "metadata": {},
   "outputs": [
    {
     "data": {
      "image/png": "[encoded data removed]",
      "text/plain": [
       "<matplotlib.figure.Figure at 0x2205607aba8>"
      ]
     },
     "metadata": {},
     "output_type": "display_data"
    }
   ],
   "source": [
    "d15[d15.Estados=='Bahia']#lembrar dentro\n",
    "crt5=(pd.crosstab(d15.Tv_por_assinatura,d15.Condicao_de_moradia,margins=False,rownames=['tv'], colnames=['condicao'],normalize='columns')*100).round(decimals=0)\n",
    "\n",
    "plot = crt5.T.plot(kind='bar', stacked=True,title='15',figsize=(10, 7))\n",
    "plot.set_ylim([0, 100])\n",
    "\n",
    "plt.xlabel('condicao')\n",
    "plt.show()"
   ]
  },
  {
   "cell_type": "code",
   "execution_count": 281,
   "metadata": {},
   "outputs": [
    {
     "data": {
      "image/png": "[encoded data removed]",
      "text/plain": [
       "<matplotlib.figure.Figure at 0x2204e41bcf8>"
      ]
     },
     "metadata": {},
     "output_type": "display_data"
    }
   ],
   "source": [
    "#d14[d14.Estados=='Bahia']\n",
    "crt4=(pd.crosstab(d14.Tv_por_assinatura,d14.Condicao_de_moradia,margins=False,rownames=['tv'], colnames=['condicao'],normalize='columns')*100).round(decimals=0)\n",
    "\n",
    "plot = crt4.T.plot(kind='bar', stacked=True,title='Sao Paulo 14',figsize=(10, 7))\n",
    "plot.set_ylim([0, 100])\n",
    "\n",
    "plt.xlabel('condicao')\n",
    "plt.show()"
   ]
  },
  {
   "cell_type": "code",
   "execution_count": 282,
   "metadata": {},
   "outputs": [
    {
     "data": {
      "image/png": "[encoded data removed]",
      "text/plain": [
       "<matplotlib.figure.Figure at 0x2205f87ab38>"
      ]
     },
     "metadata": {},
     "output_type": "display_data"
    }
   ],
   "source": [
    "d13[d13.Estados=='São Paulo']\n",
    "crt3=(pd.crosstab(d13.Tv_por_assinatura,d13.Condicao_de_moradia,margins=False,rownames=['tv'], colnames=['condicao'],normalize='columns')*100).round(decimals=0)\n",
    "crt3.head(10)\n",
    "\n",
    "\n",
    "plot = crt3.T.plot(kind='bar', stacked=True,title='Sao Paulo 13',figsize=(10, 7))\n",
    "plot.set_ylim([0, 100])\n",
    "\n",
    "plt.xlabel('condicao')\n",
    "plt.show()"
   ]
  },
  {
   "cell_type": "code",
   "execution_count": 283,
   "metadata": {
    "collapsed": true
   },
   "outputs": [],
   "source": [
    "#internet\n",
    "#PQ INT FICOU ASSIM???"
   ]
  },
  {
   "cell_type": "code",
   "execution_count": 284,
   "metadata": {},
   "outputs": [
    {
     "data": {
      "image/png": "[encoded data removed]",
      "text/plain": [
       "<matplotlib.figure.Figure at 0x2205ec4d3c8>"
      ]
     },
     "metadata": {},
     "output_type": "display_data"
    }
   ],
   "source": [
    "#d15[d15.Estados=='São Paulo']\n",
    "#crt=pd.crosstab(d15.Condicao_de_moradia,d15.Internet_no_domicilio,margins=False,rownames=['condicao de moradia'], colnames=['INTERNET'])\n",
    "#crt.head(10)\n",
    "#plot = crt.plot(kind='bar', stacked=True,title='Sao Paulo 15',figsize=(10, 7))\n",
    "\n",
    "\n",
    "\n",
    "crt52=(pd.crosstab(d15.Internet_no_domicilio,d15.Condicao_de_moradia,margins=False,rownames=['internet'], colnames=['condicao'],normalize='columns')*100).round(decimals=0)\n",
    "\n",
    "plot = crt52.T.plot(kind='bar', stacked=True,title='15',figsize=(10, 7))\n",
    "plot.set_ylim([0, 100])\n",
    "\n",
    "plt.xlabel('condicao')\n",
    "plt.show()\n",
    "\n"
   ]
  },
  {
   "cell_type": "code",
   "execution_count": 285,
   "metadata": {},
   "outputs": [
    {
     "data": {
      "image/png": "[encoded data removed]",
      "text/plain": [
       "<matplotlib.figure.Figure at 0x22048e05cc0>"
      ]
     },
     "metadata": {},
     "output_type": "display_data"
    }
   ],
   "source": [
    "d14[d14.Estados=='São Paulo']\n",
    "crt42=(pd.crosstab(d14.Internet_no_domicilio,d14.Condicao_de_moradia,margins=False,rownames=['internet'], colnames=['condicao'],normalize='columns')*100).round(decimals=0)\n",
    "\n",
    "plot = crt42.T.plot(kind='bar', stacked=True,title='14',figsize=(10, 7))\n",
    "plot.set_ylim([0, 100])\n",
    "\n",
    "plt.xlabel('condicao')\n",
    "plt.show()"
   ]
  },
  {
   "cell_type": "code",
   "execution_count": 286,
   "metadata": {},
   "outputs": [
    {
     "data": {
      "image/png": "[encoded data removed]",
      "text/plain": [
       "<matplotlib.figure.Figure at 0x2205f957fd0>"
      ]
     },
     "metadata": {},
     "output_type": "display_data"
    }
   ],
   "source": [
    "\n",
    "crt32=(pd.crosstab(d13.Internet_no_domicilio,d13.Condicao_de_moradia,margins=False,rownames=['internet'], colnames=['condicao'],normalize='columns')*100).round(decimals=0)\n",
    "\n",
    "plot = crt32.T.plot(kind='bar', stacked=True,title=' 13',figsize=(10, 7))\n",
    "plot.set_ylim([0, 100])\n",
    "\n",
    "plt.xlabel('condicao')\n",
    "plt.show()\n"
   ]
  },
  {
   "cell_type": "code",
   "execution_count": 287,
   "metadata": {},
   "outputs": [
    {
     "data": {
      "text/html": [
       "<div>\n",
       "<style>\n",
       "    .dataframe thead tr:only-child th {\n",
       "        text-align: right;\n",
       "    }\n",
       "\n",
       "    .dataframe thead th {\n",
       "        text-align: left;\n",
       "    }\n",
       "\n",
       "    .dataframe tbody tr th {\n",
       "        vertical-align: top;\n",
       "    }\n",
       "</style>\n",
       "<table border=\"1\" class=\"dataframe\">\n",
       "  <thead>\n",
       "    <tr style=\"text-align: right;\">\n",
       "      <th>condicao</th>\n",
       "      <th>Proprio- ja pago</th>\n",
       "      <th>Proprio- ainda pagando</th>\n",
       "      <th>alugado</th>\n",
       "      <th>cedido por empregador</th>\n",
       "      <th>cedido de outra forma</th>\n",
       "      <th>outra condicao</th>\n",
       "    </tr>\n",
       "    <tr>\n",
       "      <th>internet</th>\n",
       "      <th></th>\n",
       "      <th></th>\n",
       "      <th></th>\n",
       "      <th></th>\n",
       "      <th></th>\n",
       "      <th></th>\n",
       "    </tr>\n",
       "  </thead>\n",
       "  <tbody>\n",
       "    <tr>\n",
       "      <th>sim</th>\n",
       "      <td>45.0</td>\n",
       "      <td>70.0</td>\n",
       "      <td>52.0</td>\n",
       "      <td>25.0</td>\n",
       "      <td>36.0</td>\n",
       "      <td>34.0</td>\n",
       "    </tr>\n",
       "    <tr>\n",
       "      <th>nao</th>\n",
       "      <td>55.0</td>\n",
       "      <td>30.0</td>\n",
       "      <td>48.0</td>\n",
       "      <td>75.0</td>\n",
       "      <td>64.0</td>\n",
       "      <td>66.0</td>\n",
       "    </tr>\n",
       "  </tbody>\n",
       "</table>\n",
       "</div>"
      ],
      "text/plain": [
       "condicao  Proprio- ja pago  Proprio- ainda pagando  alugado  \\\n",
       "internet                                                      \n",
       "sim                   45.0                    70.0     52.0   \n",
       "nao                   55.0                    30.0     48.0   \n",
       "\n",
       "condicao  cedido por empregador  cedido de outra forma  outra condicao  \n",
       "internet                                                                \n",
       "sim                        25.0                   36.0            34.0  \n",
       "nao                        75.0                   64.0            66.0  "
      ]
     },
     "execution_count": 287,
     "metadata": {},
     "output_type": "execute_result"
    }
   ],
   "source": [
    "crt32"
   ]
  },
  {
   "cell_type": "code",
   "execution_count": 288,
   "metadata": {
    "collapsed": true
   },
   "outputs": [],
   "source": [
    "#3g/4g"
   ]
  },
  {
   "cell_type": "code",
   "execution_count": 289,
   "metadata": {},
   "outputs": [
    {
     "data": {
      "image/png": "[encoded data removed]",
      "text/plain": [
       "<matplotlib.figure.Figure at 0x220600e76d8>"
      ]
     },
     "metadata": {},
     "output_type": "display_data"
    }
   ],
   "source": [
    "crt53=(pd.crosstab(d15.internet_por_3g4g,d15.Condicao_de_moradia,margins=False,rownames=['3g/4g'], colnames=['condicao'],normalize='columns')*100).round(decimals=0)\n",
    "\n",
    "plot = crt53.T.plot(kind='bar', stacked=True,title='15',figsize=(10, 7))\n",
    "plot.set_ylim([0, 100])\n",
    "\n",
    "plt.xlabel('condicao')\n",
    "plt.show()"
   ]
  },
  {
   "cell_type": "code",
   "execution_count": 290,
   "metadata": {},
   "outputs": [
    {
     "data": {
      "image/png": "[encoded data removed]",
      "text/plain": [
       "<matplotlib.figure.Figure at 0x220439bbba8>"
      ]
     },
     "metadata": {},
     "output_type": "display_data"
    }
   ],
   "source": [
    "crt43=(pd.crosstab(d14.internet_por_3g4g,d14.Condicao_de_moradia,margins=False,rownames=['3g/4g'], colnames=['condicao'],normalize='columns')*100).round(decimals=0)\n",
    "\n",
    "plot = crt43.T.plot(kind='bar', stacked=True,title=' 14',figsize=(10, 7))\n",
    "plot.set_ylim([0, 100])\n",
    "\n",
    "plt.xlabel('condicao')\n",
    "plt.show()"
   ]
  },
  {
   "cell_type": "code",
   "execution_count": 291,
   "metadata": {},
   "outputs": [
    {
     "data": {
      "image/png": "[encoded data removed]",
      "text/plain": [
       "<matplotlib.figure.Figure at 0x2204908e7f0>"
      ]
     },
     "metadata": {},
     "output_type": "display_data"
    }
   ],
   "source": [
    "#d13[d13.Estados=='São Paulo']\n",
    "crt33=(pd.crosstab(d13.internet_por_3g4g,d13.Condicao_de_moradia,margins=False,rownames=['3g/4g'], colnames=['condicao'],normalize='columns')*100).round(decimals=0)\n",
    "\n",
    "plot = crt33.T.plot(kind='bar', stacked=True,title='13',figsize=(10, 7))\n",
    "plot.set_ylim([0, 100])\n",
    "\n",
    "plt.xlabel('condicao')\n",
    "plt.show()"
   ]
  },
  {
   "cell_type": "code",
   "execution_count": 292,
   "metadata": {
    "collapsed": true
   },
   "outputs": [],
   "source": [
    "# graficos por renda"
   ]
  },
  {
   "cell_type": "code",
   "execution_count": 293,
   "metadata": {},
   "outputs": [
    {
     "data": {
      "text/html": [
       "<div>\n",
       "<style>\n",
       "    .dataframe thead tr:only-child th {\n",
       "        text-align: right;\n",
       "    }\n",
       "\n",
       "    .dataframe thead th {\n",
       "        text-align: left;\n",
       "    }\n",
       "\n",
       "    .dataframe tbody tr th {\n",
       "        vertical-align: top;\n",
       "    }\n",
       "</style>\n",
       "<table border=\"1\" class=\"dataframe\">\n",
       "  <thead>\n",
       "    <tr style=\"text-align: right;\">\n",
       "      <th></th>\n",
       "      <th>Estados</th>\n",
       "      <th>Condicao_de_moradia</th>\n",
       "      <th>Renda</th>\n",
       "      <th>Tv_por_assinatura</th>\n",
       "      <th>Internet_no_domicilio</th>\n",
       "      <th>Celular</th>\n",
       "      <th>internet_por_3g4g</th>\n",
       "    </tr>\n",
       "  </thead>\n",
       "  <tbody>\n",
       "    <tr>\n",
       "      <th>151184</th>\n",
       "      <td>Distrito Federal</td>\n",
       "      <td>alugado</td>\n",
       "      <td>675.0</td>\n",
       "      <td>nao</td>\n",
       "      <td>nao</td>\n",
       "      <td>sim</td>\n",
       "      <td>NaN</td>\n",
       "    </tr>\n",
       "    <tr>\n",
       "      <th>151185</th>\n",
       "      <td>Distrito Federal</td>\n",
       "      <td>alugado</td>\n",
       "      <td>100.0</td>\n",
       "      <td>nao</td>\n",
       "      <td>nao</td>\n",
       "      <td>sim</td>\n",
       "      <td>NaN</td>\n",
       "    </tr>\n",
       "    <tr>\n",
       "      <th>151186</th>\n",
       "      <td>Distrito Federal</td>\n",
       "      <td>Proprio- ja pago</td>\n",
       "      <td>796.0</td>\n",
       "      <td>nao</td>\n",
       "      <td>sim</td>\n",
       "      <td>sim</td>\n",
       "      <td>sim</td>\n",
       "    </tr>\n",
       "    <tr>\n",
       "      <th>151187</th>\n",
       "      <td>Distrito Federal</td>\n",
       "      <td>Proprio- ja pago</td>\n",
       "      <td>750.0</td>\n",
       "      <td>nao</td>\n",
       "      <td>nao</td>\n",
       "      <td>sim</td>\n",
       "      <td>NaN</td>\n",
       "    </tr>\n",
       "    <tr>\n",
       "      <th>151188</th>\n",
       "      <td>Distrito Federal</td>\n",
       "      <td>Proprio- ja pago</td>\n",
       "      <td>259.0</td>\n",
       "      <td>nao</td>\n",
       "      <td>sim</td>\n",
       "      <td>sim</td>\n",
       "      <td>sim</td>\n",
       "    </tr>\n",
       "  </tbody>\n",
       "</table>\n",
       "</div>"
      ],
      "text/plain": [
       "                 Estados Condicao_de_moradia  Renda Tv_por_assinatura  \\\n",
       "151184  Distrito Federal             alugado  675.0               nao   \n",
       "151185  Distrito Federal             alugado  100.0               nao   \n",
       "151186  Distrito Federal    Proprio- ja pago  796.0               nao   \n",
       "151187  Distrito Federal    Proprio- ja pago  750.0               nao   \n",
       "151188  Distrito Federal    Proprio- ja pago  259.0               nao   \n",
       "\n",
       "       Internet_no_domicilio Celular internet_por_3g4g  \n",
       "151184                   nao     sim               NaN  \n",
       "151185                   nao     sim               NaN  \n",
       "151186                   sim     sim               sim  \n",
       "151187                   nao     sim               NaN  \n",
       "151188                   sim     sim               sim  "
      ]
     },
     "execution_count": 293,
     "metadata": {},
     "output_type": "execute_result"
    }
   ],
   "source": [
    "d15.tail()"
   ]
  },
  {
   "cell_type": "code",
   "execution_count": 294,
   "metadata": {},
   "outputs": [
    {
     "data": {
      "text/plain": [
       "count    115626.000000\n",
       "mean       1250.046391\n",
       "std        1957.210132\n",
       "min           0.000000\n",
       "25%         416.000000\n",
       "50%         788.000000\n",
       "75%        1333.000000\n",
       "max      150000.000000\n",
       "Name: Renda, dtype: float64"
      ]
     },
     "execution_count": 294,
     "metadata": {},
     "output_type": "execute_result"
    }
   ],
   "source": [
    "d15.Renda.value_counts().head()\n",
    "d15.Renda.describe()"
   ]
  },
  {
   "cell_type": "code",
   "execution_count": 295,
   "metadata": {
    "collapsed": true
   },
   "outputs": [],
   "source": [
    "#k=300\n",
    "#ak=500\n",
    "faixa = np.arange(0,150000,500)"
   ]
  },
  {
   "cell_type": "code",
   "execution_count": 296,
   "metadata": {
    "collapsed": true
   },
   "outputs": [],
   "source": [
    "excat= pd.cut(d15.Renda, bins=faixa, right=False) # bins = numero \n",
    "\n",
    "ut15 = (excat.value_counts(sort=False, normalize=True)*100).round(decimals=1)\n"
   ]
  },
  {
   "cell_type": "code",
   "execution_count": 297,
   "metadata": {},
   "outputs": [
    {
     "data": {
      "text/plain": [
       "<matplotlib.text.Text at 0x22066d35d68>"
      ]
     },
     "execution_count": 297,
     "metadata": {},
     "output_type": "execute_result"
    },
    {
     "data": {
      "image/png": "[encoded data removed]",
      "text/plain": [
       "<matplotlib.figure.Figure at 0x220665b4978>"
      ]
     },
     "metadata": {},
     "output_type": "display_data"
    }
   ],
   "source": [
    "plt.subplot(131)\n",
    "plot = d15.Renda.plot.hist(bins=faixa, title='a',normed=True, figsize=(15, 5),color=('b'))\n",
    "plt.ylabel('renda')\n",
    "plt.xlabel('freq rel')"
   ]
  },
  {
   "cell_type": "code",
   "execution_count": 298,
   "metadata": {},
   "outputs": [
    {
     "data": {
      "text/plain": [
       "(0, 100000)"
      ]
     },
     "execution_count": 298,
     "metadata": {},
     "output_type": "execute_result"
    },
    {
     "data": {
      "image/png": "[encoded data removed]",
      "text/plain": [
       "<matplotlib.figure.Figure at 0x220490a9f60>"
      ]
     },
     "metadata": {},
     "output_type": "display_data"
    }
   ],
   "source": [
    "plot = d15.Renda.plot(kind='box',title='renda',figsize=(5,30))\n",
    "plt.ylim(0,100000)\n",
    "#box plot python by= quali"
   ]
  },
  {
   "cell_type": "code",
   "execution_count": 299,
   "metadata": {},
   "outputs": [
    {
     "data": {
      "text/plain": [
       "<matplotlib.text.Text at 0x220666f30b8>"
      ]
     },
     "execution_count": 299,
     "metadata": {},
     "output_type": "execute_result"
    },
    {
     "data": {
      "image/png": "[encoded data removed]",
      "text/plain": [
       "<matplotlib.figure.Figure at 0x22057919588>"
      ]
     },
     "metadata": {},
     "output_type": "display_data"
    }
   ],
   "source": [
    "plt.subplot(121)\n",
    "plot = d15.Renda[d15.Celular==\"sim\"].plot.hist(bins=faixa, title='tem celular',normed=True, figsize=(15, 5),color=('b'))\n",
    "plt.xlim(0,5000)\n",
    "plt.ylim(0,0.0009)\n",
    "plt.ylabel('renda')\n",
    "plt.xlabel('freq rel')\n",
    "\n",
    "plt.subplot(122)\n",
    "plot = d15.Renda[d15.Celular==\"nao\"].plot.hist(bins=faixa, title='nao tem celular',normed=True, figsize=(15, 5),color=('b'))\n",
    "plt.xlim(0,5000)\n",
    "plt.ylabel('freq rel')\n",
    "plt.xlabel('renda')\n",
    "\n"
   ]
  },
  {
   "cell_type": "markdown",
   "metadata": {},
   "source": [
    "___\n",
    "## Conclusão "
   ]
  },
  {
   "cell_type": "code",
   "execution_count": null,
   "metadata": {
    "collapsed": true
   },
   "outputs": [],
   "source": []
  },
  {
   "cell_type": "markdown",
   "metadata": {
    "collapsed": true
   },
   "source": [
    "Descreva aqui suas conclusões!"
   ]
  },
  {
   "cell_type": "code",
   "execution_count": null,
   "metadata": {
    "collapsed": true
   },
   "outputs": [],
   "source": []
  }
 ],
 "metadata": {
  "anaconda-cloud": {},
  "kernelspec": {
   "display_name": "Python 3",
   "language": "python",
   "name": "python3"
  },
  "language_info": {
   "codemirror_mode": {
    "name": "ipython",
    "version": 3
   },
   "file_extension": ".py",
   "mimetype": "text/x-python",
   "name": "python",
   "nbconvert_exporter": "python",
   "pygments_lexer": "ipython3",
   "version": "3.6.1"
  }
 },
 "nbformat": 4,
 "nbformat_minor": 1
}
