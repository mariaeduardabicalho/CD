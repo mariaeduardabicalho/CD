{
 "cells": [
  {
   "cell_type": "markdown",
   "metadata": {},
   "source": [
    "\n",
    "# APS 5 - Questões com auxílio do Pandas\n"
   ]
  },
  {
   "cell_type": "markdown",
   "metadata": {},
   "source": [
    "** Nome: ** <font color=blue> Maria Eduarda Bicalho </font>\n"
   ]
  },
  {
   "cell_type": "markdown",
   "metadata": {},
   "source": [
    "APS **INDIVIDUAL**\n",
    "\n",
    "Data de Entrega: 26/Set até às 23h59 via GitHub.\n",
    "\n",
    "Vamos trabalhar com dados do USGS (United States Geological Survey) para tentar determinar se os abalos detectados no hemisfério Norte têm grande probabilidade de serem testes nucleares."
   ]
  },
  {
   "cell_type": "code",
   "execution_count": 148,
   "metadata": {
    "collapsed": true
   },
   "outputs": [],
   "source": [
    "%matplotlib inline\n",
    "import pandas as pd\n",
    "import numpy as np\n",
    "import matplotlib.pyplot as plt\n",
    "from scipy.stats import expon"
   ]
  },
  {
   "cell_type": "code",
   "execution_count": 149,
   "metadata": {},
   "outputs": [
    {
     "name": "stdout",
     "output_type": "stream",
     "text": [
      "['Date', 'Time', 'Latitude', 'Longitude', 'Type', 'Depth', 'Depth Error', 'Depth Seismic Stations', 'Magnitude', 'Magnitude Type', 'Magnitude Error', 'Magnitude Seismic Stations', 'Azimuthal Gap', 'Horizontal Distance', 'Horizontal Error', 'Root Mean Square', 'ID', 'Source', 'Location Source', 'Magnitude Source', 'Status']\n"
     ]
    }
   ],
   "source": [
    "#Abrir o arquivo\n",
    "df = pd.read_csv('earthquake.csv')\n",
    "#listar colunas\n",
    "print(list(df))"
   ]
  },
  {
   "cell_type": "code",
   "execution_count": 150,
   "metadata": {},
   "outputs": [],
   "source": [
    "df.columns=['Date', 'Time', 'Latitude', 'Longitude', 'Type', 'Depth', 'DepthError', 'Depth Seismic Stations', 'Magnitude', 'MagnitudeType', 'MagnitudeError', 'Magnitude Seismic Stations', 'Azimuthal Gap', 'Horizontal Distance', 'Horizontal Error', 'Root Mean Square', 'ID', 'Source', 'Location Source', 'Magnitude Source', 'Status']"
   ]
  },
  {
   "cell_type": "markdown",
   "metadata": {},
   "source": [
    "## Liste as primeiras linhas do DataFrame"
   ]
  },
  {
   "cell_type": "code",
   "execution_count": 151,
   "metadata": {},
   "outputs": [
    {
     "data": {
      "text/html": [
       "<div>\n",
       "<style>\n",
       "    .dataframe thead tr:only-child th {\n",
       "        text-align: right;\n",
       "    }\n",
       "\n",
       "    .dataframe thead th {\n",
       "        text-align: left;\n",
       "    }\n",
       "\n",
       "    .dataframe tbody tr th {\n",
       "        vertical-align: top;\n",
       "    }\n",
       "</style>\n",
       "<table border=\"1\" class=\"dataframe\">\n",
       "  <thead>\n",
       "    <tr style=\"text-align: right;\">\n",
       "      <th></th>\n",
       "      <th>Date</th>\n",
       "      <th>Time</th>\n",
       "      <th>Latitude</th>\n",
       "      <th>Longitude</th>\n",
       "      <th>Type</th>\n",
       "      <th>Depth</th>\n",
       "      <th>DepthError</th>\n",
       "      <th>Depth Seismic Stations</th>\n",
       "      <th>Magnitude</th>\n",
       "      <th>MagnitudeType</th>\n",
       "      <th>...</th>\n",
       "      <th>Magnitude Seismic Stations</th>\n",
       "      <th>Azimuthal Gap</th>\n",
       "      <th>Horizontal Distance</th>\n",
       "      <th>Horizontal Error</th>\n",
       "      <th>Root Mean Square</th>\n",
       "      <th>ID</th>\n",
       "      <th>Source</th>\n",
       "      <th>Location Source</th>\n",
       "      <th>Magnitude Source</th>\n",
       "      <th>Status</th>\n",
       "    </tr>\n",
       "  </thead>\n",
       "  <tbody>\n",
       "    <tr>\n",
       "      <th>0</th>\n",
       "      <td>01/02/1965</td>\n",
       "      <td>13:44:18</td>\n",
       "      <td>19.246</td>\n",
       "      <td>145.616</td>\n",
       "      <td>Earthquake</td>\n",
       "      <td>131.6</td>\n",
       "      <td>NaN</td>\n",
       "      <td>NaN</td>\n",
       "      <td>6.0</td>\n",
       "      <td>MW</td>\n",
       "      <td>...</td>\n",
       "      <td>NaN</td>\n",
       "      <td>NaN</td>\n",
       "      <td>NaN</td>\n",
       "      <td>NaN</td>\n",
       "      <td>NaN</td>\n",
       "      <td>ISCGEM860706</td>\n",
       "      <td>ISCGEM</td>\n",
       "      <td>ISCGEM</td>\n",
       "      <td>ISCGEM</td>\n",
       "      <td>Automatic</td>\n",
       "    </tr>\n",
       "    <tr>\n",
       "      <th>1</th>\n",
       "      <td>01/04/1965</td>\n",
       "      <td>11:29:49</td>\n",
       "      <td>1.863</td>\n",
       "      <td>127.352</td>\n",
       "      <td>Earthquake</td>\n",
       "      <td>80.0</td>\n",
       "      <td>NaN</td>\n",
       "      <td>NaN</td>\n",
       "      <td>5.8</td>\n",
       "      <td>MW</td>\n",
       "      <td>...</td>\n",
       "      <td>NaN</td>\n",
       "      <td>NaN</td>\n",
       "      <td>NaN</td>\n",
       "      <td>NaN</td>\n",
       "      <td>NaN</td>\n",
       "      <td>ISCGEM860737</td>\n",
       "      <td>ISCGEM</td>\n",
       "      <td>ISCGEM</td>\n",
       "      <td>ISCGEM</td>\n",
       "      <td>Automatic</td>\n",
       "    </tr>\n",
       "    <tr>\n",
       "      <th>2</th>\n",
       "      <td>01/05/1965</td>\n",
       "      <td>18:05:58</td>\n",
       "      <td>-20.579</td>\n",
       "      <td>-173.972</td>\n",
       "      <td>Earthquake</td>\n",
       "      <td>20.0</td>\n",
       "      <td>NaN</td>\n",
       "      <td>NaN</td>\n",
       "      <td>6.2</td>\n",
       "      <td>MW</td>\n",
       "      <td>...</td>\n",
       "      <td>NaN</td>\n",
       "      <td>NaN</td>\n",
       "      <td>NaN</td>\n",
       "      <td>NaN</td>\n",
       "      <td>NaN</td>\n",
       "      <td>ISCGEM860762</td>\n",
       "      <td>ISCGEM</td>\n",
       "      <td>ISCGEM</td>\n",
       "      <td>ISCGEM</td>\n",
       "      <td>Automatic</td>\n",
       "    </tr>\n",
       "    <tr>\n",
       "      <th>3</th>\n",
       "      <td>01/08/1965</td>\n",
       "      <td>18:49:43</td>\n",
       "      <td>-59.076</td>\n",
       "      <td>-23.557</td>\n",
       "      <td>Earthquake</td>\n",
       "      <td>15.0</td>\n",
       "      <td>NaN</td>\n",
       "      <td>NaN</td>\n",
       "      <td>5.8</td>\n",
       "      <td>MW</td>\n",
       "      <td>...</td>\n",
       "      <td>NaN</td>\n",
       "      <td>NaN</td>\n",
       "      <td>NaN</td>\n",
       "      <td>NaN</td>\n",
       "      <td>NaN</td>\n",
       "      <td>ISCGEM860856</td>\n",
       "      <td>ISCGEM</td>\n",
       "      <td>ISCGEM</td>\n",
       "      <td>ISCGEM</td>\n",
       "      <td>Automatic</td>\n",
       "    </tr>\n",
       "    <tr>\n",
       "      <th>4</th>\n",
       "      <td>01/09/1965</td>\n",
       "      <td>13:32:50</td>\n",
       "      <td>11.938</td>\n",
       "      <td>126.427</td>\n",
       "      <td>Earthquake</td>\n",
       "      <td>15.0</td>\n",
       "      <td>NaN</td>\n",
       "      <td>NaN</td>\n",
       "      <td>5.8</td>\n",
       "      <td>MW</td>\n",
       "      <td>...</td>\n",
       "      <td>NaN</td>\n",
       "      <td>NaN</td>\n",
       "      <td>NaN</td>\n",
       "      <td>NaN</td>\n",
       "      <td>NaN</td>\n",
       "      <td>ISCGEM860890</td>\n",
       "      <td>ISCGEM</td>\n",
       "      <td>ISCGEM</td>\n",
       "      <td>ISCGEM</td>\n",
       "      <td>Automatic</td>\n",
       "    </tr>\n",
       "  </tbody>\n",
       "</table>\n",
       "<p>5 rows × 21 columns</p>\n",
       "</div>"
      ],
      "text/plain": [
       "         Date      Time  Latitude  Longitude        Type  Depth  DepthError  \\\n",
       "0  01/02/1965  13:44:18    19.246    145.616  Earthquake  131.6         NaN   \n",
       "1  01/04/1965  11:29:49     1.863    127.352  Earthquake   80.0         NaN   \n",
       "2  01/05/1965  18:05:58   -20.579   -173.972  Earthquake   20.0         NaN   \n",
       "3  01/08/1965  18:49:43   -59.076    -23.557  Earthquake   15.0         NaN   \n",
       "4  01/09/1965  13:32:50    11.938    126.427  Earthquake   15.0         NaN   \n",
       "\n",
       "   Depth Seismic Stations  Magnitude MagnitudeType    ...      \\\n",
       "0                     NaN        6.0            MW    ...       \n",
       "1                     NaN        5.8            MW    ...       \n",
       "2                     NaN        6.2            MW    ...       \n",
       "3                     NaN        5.8            MW    ...       \n",
       "4                     NaN        5.8            MW    ...       \n",
       "\n",
       "   Magnitude Seismic Stations  Azimuthal Gap  Horizontal Distance  \\\n",
       "0                         NaN            NaN                  NaN   \n",
       "1                         NaN            NaN                  NaN   \n",
       "2                         NaN            NaN                  NaN   \n",
       "3                         NaN            NaN                  NaN   \n",
       "4                         NaN            NaN                  NaN   \n",
       "\n",
       "   Horizontal Error  Root Mean Square            ID  Source Location Source  \\\n",
       "0               NaN               NaN  ISCGEM860706  ISCGEM          ISCGEM   \n",
       "1               NaN               NaN  ISCGEM860737  ISCGEM          ISCGEM   \n",
       "2               NaN               NaN  ISCGEM860762  ISCGEM          ISCGEM   \n",
       "3               NaN               NaN  ISCGEM860856  ISCGEM          ISCGEM   \n",
       "4               NaN               NaN  ISCGEM860890  ISCGEM          ISCGEM   \n",
       "\n",
       "  Magnitude Source     Status  \n",
       "0           ISCGEM  Automatic  \n",
       "1           ISCGEM  Automatic  \n",
       "2           ISCGEM  Automatic  \n",
       "3           ISCGEM  Automatic  \n",
       "4           ISCGEM  Automatic  \n",
       "\n",
       "[5 rows x 21 columns]"
      ]
     },
     "execution_count": 151,
     "metadata": {},
     "output_type": "execute_result"
    }
   ],
   "source": [
    "df.head()"
   ]
  },
  {
   "cell_type": "markdown",
   "metadata": {},
   "source": [
    "## Q1 - Manipulando o DataFrame\n",
    "\n",
    "Crie uma coluna chamada `Hemisfério` baseada na Latitude\n",
    "\n",
    "A regra de formação é a seguinte:\n",
    "\n",
    "Valor | Critério\n",
    "---|---\n",
    "Norte | Latitude positiva\n",
    "Sul | Latitude negativa"
   ]
  },
  {
   "cell_type": "code",
   "execution_count": 152,
   "metadata": {},
   "outputs": [
    {
     "data": {
      "text/html": [
       "<div>\n",
       "<style>\n",
       "    .dataframe thead tr:only-child th {\n",
       "        text-align: right;\n",
       "    }\n",
       "\n",
       "    .dataframe thead th {\n",
       "        text-align: left;\n",
       "    }\n",
       "\n",
       "    .dataframe tbody tr th {\n",
       "        vertical-align: top;\n",
       "    }\n",
       "</style>\n",
       "<table border=\"1\" class=\"dataframe\">\n",
       "  <thead>\n",
       "    <tr style=\"text-align: right;\">\n",
       "      <th></th>\n",
       "      <th>Date</th>\n",
       "      <th>Time</th>\n",
       "      <th>Latitude</th>\n",
       "      <th>Longitude</th>\n",
       "      <th>Type</th>\n",
       "      <th>Depth</th>\n",
       "      <th>DepthError</th>\n",
       "      <th>Depth Seismic Stations</th>\n",
       "      <th>Magnitude</th>\n",
       "      <th>MagnitudeType</th>\n",
       "      <th>...</th>\n",
       "      <th>Azimuthal Gap</th>\n",
       "      <th>Horizontal Distance</th>\n",
       "      <th>Horizontal Error</th>\n",
       "      <th>Root Mean Square</th>\n",
       "      <th>ID</th>\n",
       "      <th>Source</th>\n",
       "      <th>Location Source</th>\n",
       "      <th>Magnitude Source</th>\n",
       "      <th>Status</th>\n",
       "      <th>Hemisferio</th>\n",
       "    </tr>\n",
       "  </thead>\n",
       "  <tbody>\n",
       "    <tr>\n",
       "      <th>23407</th>\n",
       "      <td>12/28/2016</td>\n",
       "      <td>08:22:12</td>\n",
       "      <td>38.3917</td>\n",
       "      <td>-118.8941</td>\n",
       "      <td>Earthquake</td>\n",
       "      <td>12.30</td>\n",
       "      <td>1.2</td>\n",
       "      <td>40.0</td>\n",
       "      <td>5.6</td>\n",
       "      <td>ML</td>\n",
       "      <td>...</td>\n",
       "      <td>42.47</td>\n",
       "      <td>0.120</td>\n",
       "      <td>NaN</td>\n",
       "      <td>0.1898</td>\n",
       "      <td>NN00570710</td>\n",
       "      <td>NN</td>\n",
       "      <td>NN</td>\n",
       "      <td>NN</td>\n",
       "      <td>Reviewed</td>\n",
       "      <td>Norte</td>\n",
       "    </tr>\n",
       "    <tr>\n",
       "      <th>23408</th>\n",
       "      <td>12/28/2016</td>\n",
       "      <td>09:13:47</td>\n",
       "      <td>38.3777</td>\n",
       "      <td>-118.8957</td>\n",
       "      <td>Earthquake</td>\n",
       "      <td>8.80</td>\n",
       "      <td>2.0</td>\n",
       "      <td>33.0</td>\n",
       "      <td>5.5</td>\n",
       "      <td>ML</td>\n",
       "      <td>...</td>\n",
       "      <td>48.58</td>\n",
       "      <td>0.129</td>\n",
       "      <td>NaN</td>\n",
       "      <td>0.2187</td>\n",
       "      <td>NN00570744</td>\n",
       "      <td>NN</td>\n",
       "      <td>NN</td>\n",
       "      <td>NN</td>\n",
       "      <td>Reviewed</td>\n",
       "      <td>Norte</td>\n",
       "    </tr>\n",
       "    <tr>\n",
       "      <th>23409</th>\n",
       "      <td>12/28/2016</td>\n",
       "      <td>12:38:51</td>\n",
       "      <td>36.9179</td>\n",
       "      <td>140.4262</td>\n",
       "      <td>Earthquake</td>\n",
       "      <td>10.00</td>\n",
       "      <td>1.8</td>\n",
       "      <td>NaN</td>\n",
       "      <td>5.9</td>\n",
       "      <td>MWW</td>\n",
       "      <td>...</td>\n",
       "      <td>91.00</td>\n",
       "      <td>0.992</td>\n",
       "      <td>4.8</td>\n",
       "      <td>1.5200</td>\n",
       "      <td>US10007NAF</td>\n",
       "      <td>US</td>\n",
       "      <td>US</td>\n",
       "      <td>US</td>\n",
       "      <td>Reviewed</td>\n",
       "      <td>Norte</td>\n",
       "    </tr>\n",
       "    <tr>\n",
       "      <th>23410</th>\n",
       "      <td>12/29/2016</td>\n",
       "      <td>22:30:19</td>\n",
       "      <td>-9.0283</td>\n",
       "      <td>118.6639</td>\n",
       "      <td>Earthquake</td>\n",
       "      <td>79.00</td>\n",
       "      <td>1.8</td>\n",
       "      <td>NaN</td>\n",
       "      <td>6.3</td>\n",
       "      <td>MWW</td>\n",
       "      <td>...</td>\n",
       "      <td>26.00</td>\n",
       "      <td>3.553</td>\n",
       "      <td>6.0</td>\n",
       "      <td>1.4300</td>\n",
       "      <td>US10007NL0</td>\n",
       "      <td>US</td>\n",
       "      <td>US</td>\n",
       "      <td>US</td>\n",
       "      <td>Reviewed</td>\n",
       "      <td>Sul</td>\n",
       "    </tr>\n",
       "    <tr>\n",
       "      <th>23411</th>\n",
       "      <td>12/30/2016</td>\n",
       "      <td>20:08:28</td>\n",
       "      <td>37.3973</td>\n",
       "      <td>141.4103</td>\n",
       "      <td>Earthquake</td>\n",
       "      <td>11.94</td>\n",
       "      <td>2.2</td>\n",
       "      <td>NaN</td>\n",
       "      <td>5.5</td>\n",
       "      <td>MB</td>\n",
       "      <td>...</td>\n",
       "      <td>97.00</td>\n",
       "      <td>0.681</td>\n",
       "      <td>4.5</td>\n",
       "      <td>0.9100</td>\n",
       "      <td>US10007NTD</td>\n",
       "      <td>US</td>\n",
       "      <td>US</td>\n",
       "      <td>US</td>\n",
       "      <td>Reviewed</td>\n",
       "      <td>Norte</td>\n",
       "    </tr>\n",
       "  </tbody>\n",
       "</table>\n",
       "<p>5 rows × 22 columns</p>\n",
       "</div>"
      ],
      "text/plain": [
       "             Date      Time  Latitude  Longitude        Type  Depth  \\\n",
       "23407  12/28/2016  08:22:12   38.3917  -118.8941  Earthquake  12.30   \n",
       "23408  12/28/2016  09:13:47   38.3777  -118.8957  Earthquake   8.80   \n",
       "23409  12/28/2016  12:38:51   36.9179   140.4262  Earthquake  10.00   \n",
       "23410  12/29/2016  22:30:19   -9.0283   118.6639  Earthquake  79.00   \n",
       "23411  12/30/2016  20:08:28   37.3973   141.4103  Earthquake  11.94   \n",
       "\n",
       "       DepthError  Depth Seismic Stations  Magnitude MagnitudeType    ...      \\\n",
       "23407         1.2                    40.0        5.6            ML    ...       \n",
       "23408         2.0                    33.0        5.5            ML    ...       \n",
       "23409         1.8                     NaN        5.9           MWW    ...       \n",
       "23410         1.8                     NaN        6.3           MWW    ...       \n",
       "23411         2.2                     NaN        5.5            MB    ...       \n",
       "\n",
       "       Azimuthal Gap  Horizontal Distance  Horizontal Error  Root Mean Square  \\\n",
       "23407          42.47                0.120               NaN            0.1898   \n",
       "23408          48.58                0.129               NaN            0.2187   \n",
       "23409          91.00                0.992               4.8            1.5200   \n",
       "23410          26.00                3.553               6.0            1.4300   \n",
       "23411          97.00                0.681               4.5            0.9100   \n",
       "\n",
       "               ID  Source Location Source Magnitude Source    Status  \\\n",
       "23407  NN00570710      NN              NN               NN  Reviewed   \n",
       "23408  NN00570744      NN              NN               NN  Reviewed   \n",
       "23409  US10007NAF      US              US               US  Reviewed   \n",
       "23410  US10007NL0      US              US               US  Reviewed   \n",
       "23411  US10007NTD      US              US               US  Reviewed   \n",
       "\n",
       "      Hemisferio  \n",
       "23407      Norte  \n",
       "23408      Norte  \n",
       "23409      Norte  \n",
       "23410        Sul  \n",
       "23411      Norte  \n",
       "\n",
       "[5 rows x 22 columns]"
      ]
     },
     "execution_count": 152,
     "metadata": {},
     "output_type": "execute_result"
    }
   ],
   "source": [
    "df.loc[df.Latitude>0,\"Hemisferio\"]=\"Norte\"\n",
    "df.loc[df.Latitude<0,\"Hemisferio\"]=\"Sul\"\n",
    "df.tail()"
   ]
  },
  {
   "cell_type": "markdown",
   "metadata": {},
   "source": [
    "## Q2 - Fit e Histograma\n",
    "\n",
    "Faça o Histograma da Magnitude. Interprete."
   ]
  },
  {
   "cell_type": "code",
   "execution_count": 153,
   "metadata": {},
   "outputs": [],
   "source": [
    "df.Magnitude.describe()\n",
    "faixa=np.arange(5.5,9.5,0.5)\n",
    "e=pd.cut(df.Magnitude,bins=faixa,right=False)\n",
    "ut=(e.value_counts(sort=False,normalize=True)*100).round(decimals=1) "
   ]
  },
  {
   "cell_type": "code",
   "execution_count": 154,
   "metadata": {},
   "outputs": [
    {
     "data": {
      "text/plain": [
       "(5.3, 9.3)"
      ]
     },
     "execution_count": 154,
     "metadata": {},
     "output_type": "execute_result"
    },
    {
     "data": {
      "image/png": "[encoded data removed]",
      "text/plain": [
       "<matplotlib.figure.Figure at 0x1bb2763fb00>"
      ]
     },
     "metadata": {},
     "output_type": "display_data"
    }
   ],
   "source": [
    "plot=df.Magnitude.plot.hist(bins=faixa, title=\"Histograma Magnitude\",normed= True, figsize=(10,5),color=(\"coral\"))\n",
    "plt.xlabel('Magnitude')\n",
    "plt.ylabel('densidade')\n",
    "plt.xlim(5.3,9.3)"
   ]
  },
  {
   "cell_type": "markdown",
   "metadata": {},
   "source": [
    "Faça o fit de uma distribuição exponencial sobre os dados da Magnitude, achando os valores de **loc** e **scale**. Interprete loc e scale no caso da exponencial.\n",
    "Documentação: https://docs.scipy.org/doc/scipy/reference/generated/scipy.stats.expon.html"
   ]
  },
  {
   "cell_type": "code",
   "execution_count": 155,
   "metadata": {},
   "outputs": [
    {
     "ename": "NameError",
     "evalue": "name 'fit' is not defined",
     "output_type": "error",
     "traceback": [
      "\u001b[1;31m---------------------------------------------------------------------------\u001b[0m",
      "\u001b[1;31mNameError\u001b[0m                                 Traceback (most recent call last)",
      "\u001b[1;32m<ipython-input-155-131a905d96ab>\u001b[0m in \u001b[0;36m<module>\u001b[1;34m()\u001b[0m\n\u001b[1;32m----> 1\u001b[1;33m \u001b[0mfit\u001b[0m\u001b[1;33m(\u001b[0m\u001b[0mdf\u001b[0m\u001b[1;33m.\u001b[0m\u001b[0mMagnitude\u001b[0m\u001b[1;33m,\u001b[0m \u001b[0mloc\u001b[0m\u001b[1;33m=\u001b[0m\u001b[1;36m0\u001b[0m\u001b[1;33m,\u001b[0m \u001b[0mscale\u001b[0m\u001b[1;33m=\u001b[0m\u001b[1;36m1\u001b[0m\u001b[1;33m)\u001b[0m\u001b[1;33m\u001b[0m\u001b[0m\n\u001b[0m",
      "\u001b[1;31mNameError\u001b[0m: name 'fit' is not defined"
     ]
    }
   ],
   "source": [
    "fit(df.Magnitude, loc=0, scale=1)"
   ]
  },
  {
   "cell_type": "markdown",
   "metadata": {},
   "source": [
    "Refaça o Histograma plotando a fdp (função densidade de probabilidade) da exponencial com os parâmetros achados no fit em cima. Cuidado com o domínio utilizado. Interprete."
   ]
  },
  {
   "cell_type": "code",
   "execution_count": null,
   "metadata": {
    "collapsed": true
   },
   "outputs": [],
   "source": []
  },
  {
   "cell_type": "markdown",
   "metadata": {},
   "source": [
    "# NAO DEU CERTO"
   ]
  },
  {
   "cell_type": "markdown",
   "metadata": {},
   "source": [
    "## Q3 - Tabela cruzada\n",
    "\n",
    "Faça uma tabela de cruzamento das variáveis `Hemisfério` e `Type`\n",
    "\n",
    "Sua tabela deve ser <font color=red> normalizada</font>"
   ]
  },
  {
   "cell_type": "code",
   "execution_count": 156,
   "metadata": {},
   "outputs": [
    {
     "data": {
      "image/png": "[encoded data removed]",
      "text/plain": [
       "<matplotlib.figure.Figure at 0x1bb265fef28>"
      ]
     },
     "metadata": {},
     "output_type": "display_data"
    }
   ],
   "source": [
    "crt=(pd.crosstab(df.Hemisferio,df.Type,margins=False,rownames=['hemisferio'], colnames=['type'],normalize='columns')*100).round(decimals=0)\n",
    "plot = crt.T.plot(kind='bar', stacked=True,title='2015',figsize=(5, 5),color=(\"g\",\"b\"))\n",
    "plot.set_ylim([0, 100])\n",
    "plt.xlabel('renda')\n",
    "plt.show()"
   ]
  },
  {
   "cell_type": "markdown",
   "metadata": {},
   "source": [
    "### Q3.1 - Qual a probabilidade de ocorrer um terremoto no hemisfério norte?"
   ]
  },
  {
   "cell_type": "markdown",
   "metadata": {},
   "source": [
    "Adicione na célula abaixo o cálculo:"
   ]
  },
  {
   "cell_type": "code",
   "execution_count": 192,
   "metadata": {},
   "outputs": [
    {
     "name": "stdout",
     "output_type": "stream",
     "text": [
      "Probabilidade:\n",
      "98.5965903739286\n"
     ]
    }
   ],
   "source": [
    "df.Type.shape\n",
    "#23412\n",
    "df[df.Type == \"Earthquake\"].shape\n",
    "#23232\n",
    "df[(df.Type == \"Earthquake\")&(df.Hemisferio == \"Norte\")].shape\n",
    "#10468\n",
    "\n",
    "df[df.Hemisferio == \"Norte\"].shape\n",
    "#10617\n",
    "\n",
    "\n",
    "\n",
    "print(\"Probabilidade:\")\n",
    "print((((23232/23412)*(10468/23232))/(10617/23412))*100)"
   ]
  },
  {
   "cell_type": "markdown",
   "metadata": {},
   "source": [
    "Explique o seu raciocínio"
   ]
  },
  {
   "cell_type": "markdown",
   "metadata": {
    "collapsed": true
   },
   "source": [
    "##### Peguei a probabilidade de acontecer um terremoto e multipliqui pela probabilidade de ser no norte, seguindo a linha de pensamento da árvore de proabilidades."
   ]
  },
  {
   "cell_type": "markdown",
   "metadata": {},
   "source": [
    "### Q3.2 - Dado que aconteceu no Norte, qual a probabilidade de ele ter sido `Nuclear Explosion`? "
   ]
  },
  {
   "cell_type": "markdown",
   "metadata": {},
   "source": [
    "Calcule a resposta abaixo, ou explique como a encontrou"
   ]
  },
  {
   "cell_type": "markdown",
   "metadata": {},
   "source": [
    "Se for cálculo preencha a célula a seguir:"
   ]
  },
  {
   "cell_type": "code",
   "execution_count": 201,
   "metadata": {},
   "outputs": [
    {
     "name": "stdout",
     "output_type": "stream",
     "text": [
      "Probabilidade:\n",
      "0.013845719129697655\n",
      "type        Earthquake  Explosion  Nuclear Explosion  Rock Burst    All\n",
      "hemisferio                                                             \n",
      "Norte            10468          2                147           0  10617\n",
      "Sul              12763          2                 28           1  12794\n",
      "All              23231          4                175           1  23411\n"
     ]
    }
   ],
   "source": [
    "df[(df.Hemisferio == \"Norte\")].shape\n",
    "#10617\n",
    "pn=10617/23412\n",
    "\n",
    "df[(df.Type == \"Nuclear Explosion\")&(df.Hemisferio == \"Norte\")].shape\n",
    "#147\n",
    "pnnex=147/10617\n",
    "\n",
    "print(\"Probabilidade:\")\n",
    "print((pnnex))\n",
    "\n",
    "crt=(pd.crosstab(df.Hemisferio,df.Type,margins=True,rownames=['hemisferio'], colnames=['type'], normalize=False))\n",
    "print(crt)"
   ]
  },
  {
   "cell_type": "markdown",
   "metadata": {},
   "source": [
    "Se conseguir obter a resposta sem calcular, insira a resposta abaixo:\n",
    "\n",
    "* A probabilidade de ter sido `Nuclear Explosion` é ..."
   ]
  },
  {
   "cell_type": "code",
   "execution_count": null,
   "metadata": {
    "collapsed": true
   },
   "outputs": [],
   "source": []
  },
  {
   "cell_type": "markdown",
   "metadata": {},
   "source": [
    "## Q4 - Análise bivariada\n",
    "\n",
    "Faça o *plot* de dispersão (*scatter plot*) entre as variáveis `Magnitude Error`  e `Depth`"
   ]
  },
  {
   "cell_type": "code",
   "execution_count": 181,
   "metadata": {},
   "outputs": [
    {
     "data": {
      "text/plain": [
       "<matplotlib.axes._subplots.AxesSubplot at 0x1bb260a2be0>"
      ]
     },
     "execution_count": 181,
     "metadata": {},
     "output_type": "execute_result"
    },
    {
     "data": {
      "image/png": "[encoded data removed]",
      "text/plain": [
       "<matplotlib.figure.Figure at 0x1bb260ea278>"
      ]
     },
     "metadata": {},
     "output_type": "display_data"
    }
   ],
   "source": [
    " df.plot(kind='scatter', x='MagnitudeError', y='Depth')"
   ]
  },
  {
   "cell_type": "markdown",
   "metadata": {},
   "source": [
    "Calcule a correlação entre as variáveis `Magnitude Error`  e `Depth`"
   ]
  },
  {
   "cell_type": "code",
   "execution_count": 160,
   "metadata": {},
   "outputs": [
    {
     "name": "stdout",
     "output_type": "stream",
     "text": [
      "0.0234573124921\n"
     ]
    }
   ],
   "source": [
    "cov=np.cov(df.MagnitudeError,df.Depth)[0,1]\n",
    "cor=np.corrcoef(df.Magnitude,df.Depth)[0,1]\n",
    "print(cor)"
   ]
  },
  {
   "cell_type": "markdown",
   "metadata": {},
   "source": [
    "Explique o que significa o valor da correlação calculada acima? "
   ]
  },
  {
   "cell_type": "markdown",
   "metadata": {
    "collapsed": true
   },
   "source": [
    "##### O valor da correlação calculado acima significa que o a relação entre as duas variáveis está próximo de 0, e distante de 1, ou seja não está perto de ser uma reta, dessa forma a relação entre essas duas variáveis não é linear."
   ]
  },
  {
   "cell_type": "markdown",
   "metadata": {},
   "source": [
    "## Q5 - Describe e boxplot\n",
    "\n",
    "Faça o `describe` e o *boxplot* da `Latitude` e da `Longitude`. Explique os valores"
   ]
  },
  {
   "cell_type": "code",
   "execution_count": 161,
   "metadata": {},
   "outputs": [
    {
     "data": {
      "text/plain": [
       "count    23412.000000\n",
       "mean         1.679033\n",
       "std         30.113183\n",
       "min        -77.080000\n",
       "25%        -18.653000\n",
       "50%         -3.568500\n",
       "75%         26.190750\n",
       "max         86.005000\n",
       "Name: Latitude, dtype: float64"
      ]
     },
     "execution_count": 161,
     "metadata": {},
     "output_type": "execute_result"
    }
   ],
   "source": [
    "df.Latitude.describe()"
   ]
  },
  {
   "cell_type": "code",
   "execution_count": 162,
   "metadata": {},
   "outputs": [
    {
     "data": {
      "image/png": "[encoded data removed]",
      "text/plain": [
       "<matplotlib.figure.Figure at 0x1bb260d1320>"
      ]
     },
     "metadata": {},
     "output_type": "display_data"
    }
   ],
   "source": [
    "plot = df.Latitude.plot(kind='box',title='Boxplot Latitude', color= 'green')\n",
    "plt.show()"
   ]
  },
  {
   "cell_type": "code",
   "execution_count": 163,
   "metadata": {},
   "outputs": [
    {
     "data": {
      "text/plain": [
       "count    23412.000000\n",
       "mean        39.639961\n",
       "std        125.511959\n",
       "min       -179.997000\n",
       "25%        -76.349750\n",
       "50%        103.982000\n",
       "75%        145.026250\n",
       "max        179.998000\n",
       "Name: Longitude, dtype: float64"
      ]
     },
     "execution_count": 163,
     "metadata": {},
     "output_type": "execute_result"
    }
   ],
   "source": [
    "df.Longitude.describe()"
   ]
  },
  {
   "cell_type": "code",
   "execution_count": 164,
   "metadata": {},
   "outputs": [
    {
     "data": {
      "image/png": "[encoded data removed]",
      "text/plain": [
       "<matplotlib.figure.Figure at 0x1bb2669ae48>"
      ]
     },
     "metadata": {},
     "output_type": "display_data"
    }
   ],
   "source": [
    "plot = df.Longitude.plot(kind='box',title='Boxplot Longitude', color='red')\n",
    "plt.show()"
   ]
  },
  {
   "cell_type": "markdown",
   "metadata": {},
   "source": [
    "## Q6 - Tirando conclusões com base nos dados\n",
    "\n",
    "Em um certo lugar já ocorreram abalos com *Magnitude Type* `MB` e *Type* `Nuclear Explosion`. \n",
    " \n",
    "Responda: \n",
    "    * É mais provável que tenha sido no norte ou no sul? \n",
    "    \n",
    "Assuma que os Magnitude Type e Type são independentes\n"
   ]
  },
  {
   "cell_type": "code",
   "execution_count": 189,
   "metadata": {},
   "outputs": [
    {
     "name": "stdout",
     "output_type": "stream",
     "text": [
      "0.08835947886200478\n",
      "0.3761127359744748\n",
      "Norte\n"
     ]
    }
   ],
   "source": [
    "\n",
    "df.shape\n",
    "#23412\n",
    "\n",
    "df[df.MagnitudeType == \"MB\"].shape\n",
    "#3761\n",
    "pmb=3761/23412\n",
    "df[df.Type == \"Nuclear Explosion\"].shape\n",
    "#175\n",
    "pne=175/23412\n",
    "\n",
    "df[(df.Type == \"Nuclear Explosion\")&(df.Hemisferio == \"Norte\")].shape\n",
    "#147\n",
    "pnen=147/23412\n",
    "df[(df.MagnitudeType == \"MB\")&(df.Hemisferio == \"Norte\")].shape #mais um\n",
    "#1684\n",
    "pmbn=1684/23412\n",
    "\n",
    "df[(df.Type == \"Nuclear Explosion\")&(df.Hemisferio == \"Sul\")].shape\n",
    "#28\n",
    "pnes=28/23412\n",
    "df[(df.MagnitudeType == \"MB\")&(df.Hemisferio == \"Sul\")].shape\n",
    "#2077\n",
    "pmbs=2077/23412\n",
    "\n",
    "pnorte=((pmbn/pmb)*(pnen/pne))\n",
    "psul=((pmbs/pmb)*(pnes/pne))\n",
    "      \n",
    "\n",
    "\n",
    "\n",
    "print(psul)\n",
    "print(pnorte)\n",
    "\n",
    "print(\"Norte\")"
   ]
  }
 ],
 "metadata": {
  "kernelspec": {
   "display_name": "Python 3",
   "language": "python",
   "name": "python3"
  },
  "language_info": {
   "codemirror_mode": {
    "name": "ipython",
    "version": 3
   },
   "file_extension": ".py",
   "mimetype": "text/x-python",
   "name": "python",
   "nbconvert_exporter": "python",
   "pygments_lexer": "ipython3",
   "version": "3.6.1"
  }
 },
 "nbformat": 4,
 "nbformat_minor": 1
}
